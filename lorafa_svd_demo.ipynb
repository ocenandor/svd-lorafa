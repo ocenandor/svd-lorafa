{
 "cells": [
  {
   "cell_type": "code",
   "execution_count": 61,
   "metadata": {},
   "outputs": [],
   "source": [
    "import torch\n",
    "import torch.nn as nn\n",
    "\n",
    "import numpy as np\n",
    "import matplotlib.pyplot as plt\n",
    "\n",
    "from functools import partial\n",
    "\n",
    "from lora import *"
   ]
  },
  {
   "cell_type": "markdown",
   "metadata": {},
   "source": [
    "### Examples of how stuff works"
   ]
  },
  {
   "cell_type": "code",
   "execution_count": 62,
   "metadata": {},
   "outputs": [
    {
     "name": "stdout",
     "output_type": "stream",
     "text": [
      "tensor([[ 0.5813,  0.4768, -0.1592, -0.3883, -0.2509]],\n",
      "       grad_fn=<AddmmBackward0>)\n"
     ]
    }
   ],
   "source": [
    "# a simple model\n",
    "model = torch.nn.Sequential()\n",
    "model.add_module('dumb_module', torch.nn.Sequential())\n",
    "model.dumb_module.add_module('linear', torch.nn.Linear(5, 5))\n",
    "model.dumb_module.add_module('relu', torch.nn.ReLU())\n",
    "model.dumb_module.add_module('Q', torch.nn.Linear(5, 5))\n",
    "model.add_module('linear', torch.nn.Linear(5, 5))\n",
    "model.add_module('Q', torch.nn.Linear(5, 5))\n",
    "model.add_module('K', torch.nn.Linear(5, 5))\n",
    "model.add_module('A', torch.nn.Linear(5, 5))\n",
    "\n",
    "x = torch.randn(1, 5)\n",
    "y = model(x)\n",
    "print(y)\n",
    "Y0 = y"
   ]
  },
  {
   "cell_type": "code",
   "execution_count": 63,
   "metadata": {},
   "outputs": [
    {
     "name": "stdout",
     "output_type": "stream",
     "text": [
      "\n",
      "dumb_module\n",
      "dumb_module.linear\n",
      "dumb_module.relu\n",
      "dumb_module.Q\n",
      "linear\n",
      "Q\n",
      "K\n",
      "A\n"
     ]
    }
   ],
   "source": [
    "for name, module in model.named_modules():\n",
    "    print(name)"
   ]
  },
  {
   "cell_type": "code",
   "execution_count": 66,
   "metadata": {},
   "outputs": [
    {
     "data": {
      "text/plain": [
       "['dumb_module.Q', 'Q', 'K']"
      ]
     },
     "execution_count": 66,
     "metadata": {},
     "output_type": "execute_result"
    }
   ],
   "source": [
    "def construct_lorafa_config(model, rank):\n",
    "    \"\"\"Each layer has a unique name within module hierarchy, so we can identify \n",
    "    them for lora parametrization\"\"\"\n",
    "    config = {}\n",
    "    for name, module in model.named_modules():\n",
    "        if isinstance(module, nn.Linear) and any([name.split('.')[-1] == n for n in ['Q', 'K']]):\n",
    "            config[name] = {\n",
    "                nn.Linear: {\n",
    "                    \"weight\": partial(\n",
    "                        LoRAFAParametrization.from_linear,\n",
    "                        rank=rank, \n",
    "                        init_method=\"svd\", # set svd as initiazliation method\n",
    "                        original_weights=module.weight.data,\n",
    "                    ),\n",
    "                }\n",
    "            }\n",
    "    return config\n",
    "\n",
    "lorafa_config = construct_lorafa_config(model, rank=2)\n",
    "list(lorafa_config.keys())"
   ]
  },
  {
   "cell_type": "code",
   "execution_count": 67,
   "metadata": {},
   "outputs": [
    {
     "name": "stdout",
     "output_type": "stream",
     "text": [
      "tensor([[ 0.6452,  0.5182, -0.1465, -0.3162, -0.2925]],\n",
      "       grad_fn=<AddmmBackward0>)\n"
     ]
    }
   ],
   "source": [
    "add_lora_by_layer_names(model, lorafa_config)\n",
    "y = model(x)\n",
    "print(y)"
   ]
  },
  {
   "cell_type": "code",
   "execution_count": 69,
   "metadata": {},
   "outputs": [
    {
     "name": "stdout",
     "output_type": "stream",
     "text": [
      "dumb_module.Q.parametrizations.weight.0.lora_B Parameter containing:\n",
      "tensor([[ 0.7124,  0.3005],\n",
      "        [ 0.1960, -0.2111],\n",
      "        [-0.0140,  0.7604],\n",
      "        [ 0.2219,  0.3728],\n",
      "        [-0.6361,  0.3848]], requires_grad=True)\n",
      "Q.parametrizations.weight.0.lora_B Parameter containing:\n",
      "tensor([[ 0.5842, -0.0712],\n",
      "        [ 0.3016,  0.8204],\n",
      "        [-0.0405, -0.4805],\n",
      "        [ 0.5626, -0.1995],\n",
      "        [ 0.4996, -0.2264]], requires_grad=True)\n",
      "K.parametrizations.weight.0.lora_B Parameter containing:\n",
      "tensor([[-0.2473,  0.6015],\n",
      "        [ 0.5891,  0.4978],\n",
      "        [-0.1533,  0.4535],\n",
      "        [ 0.3463,  0.3257],\n",
      "        [ 0.6696, -0.2804]], requires_grad=True)\n"
     ]
    }
   ],
   "source": [
    "for n, p in model.named_parameters():\n",
    "    if name_is_lora(n) and n.split('.')[-1] == 'lora_B':\n",
    "        print(n, p)        "
   ]
  },
  {
   "cell_type": "code",
   "execution_count": 42,
   "metadata": {},
   "outputs": [
    {
     "data": {
      "text/plain": [
       "['dumb_module.Q.parametrizations.weight.0.lora_A',\n",
       " 'dumb_module.Q.parametrizations.weight.0.lora_B',\n",
       " 'Q.parametrizations.weight.0.lora_A',\n",
       " 'Q.parametrizations.weight.0.lora_B',\n",
       " 'K.parametrizations.weight.0.lora_A',\n",
       " 'K.parametrizations.weight.0.lora_B']"
      ]
     },
     "execution_count": 42,
     "metadata": {},
     "output_type": "execute_result"
    }
   ],
   "source": [
    "# list of parameters generated by lora\n",
    "list(get_lora_state_dict(model).keys())"
   ]
  },
  {
   "cell_type": "code",
   "execution_count": 43,
   "metadata": {},
   "outputs": [
    {
     "name": "stdout",
     "output_type": "stream",
     "text": [
      "torch.Size([2, 5]) False\n",
      "torch.Size([5, 2]) True\n",
      "torch.Size([2, 5]) False\n",
      "torch.Size([5, 2]) True\n",
      "torch.Size([2, 5]) False\n",
      "torch.Size([5, 2]) True\n"
     ]
    }
   ],
   "source": [
    "# Note: for some reason get_lora_named_parameters(model) returns all parameters with requires_grad=False\n",
    "# need to figure out why\n",
    "# but this works\n",
    "for params in get_lora_params(model): # check that A are frozen\n",
    "    print(params.shape, params.requires_grad)"
   ]
  },
  {
   "cell_type": "markdown",
   "metadata": {},
   "source": [
    "### Better example with complete pipeline"
   ]
  },
  {
   "cell_type": "markdown",
   "metadata": {},
   "source": [
    "Define some model"
   ]
  },
  {
   "cell_type": "code",
   "execution_count": 22,
   "metadata": {},
   "outputs": [],
   "source": [
    "model = torch.nn.Sequential()\n",
    "model.add_module('block1', torch.nn.Sequential())\n",
    "model.block1.add_module('Q', torch.nn.Linear(1, 10))\n",
    "model.block1.add_module('relu', torch.nn.ReLU())\n",
    "model.block1.add_module('K', torch.nn.Linear(10, 10))\n",
    "\n",
    "model.add_module('block2', torch.nn.Sequential())\n",
    "model.block2.add_module('Q', torch.nn.Linear(10, 3))\n",
    "model.block2.add_module('relu', torch.nn.ReLU())\n",
    "model.block2.add_module('A', torch.nn.Linear(3, 1))"
   ]
  },
  {
   "cell_type": "code",
   "execution_count": 23,
   "metadata": {},
   "outputs": [
    {
     "data": {
      "text/plain": [
       "Sequential(\n",
       "  (block1): Sequential(\n",
       "    (Q): Linear(in_features=1, out_features=10, bias=True)\n",
       "    (relu): ReLU()\n",
       "    (K): Linear(in_features=10, out_features=10, bias=True)\n",
       "  )\n",
       "  (block2): Sequential(\n",
       "    (Q): Linear(in_features=10, out_features=3, bias=True)\n",
       "    (relu): ReLU()\n",
       "    (A): Linear(in_features=3, out_features=1, bias=True)\n",
       "  )\n",
       ")"
      ]
     },
     "execution_count": 23,
     "metadata": {},
     "output_type": "execute_result"
    }
   ],
   "source": [
    "model # let's imagine this is LLM with Q,K within some blocks"
   ]
  },
  {
   "cell_type": "markdown",
   "metadata": {},
   "source": [
    "Define proper config for target layers"
   ]
  },
  {
   "cell_type": "code",
   "execution_count": 41,
   "metadata": {},
   "outputs": [],
   "source": [
    "def construct_lorafa_config(model, rank):\n",
    "    \"\"\"Each layer has a unique name within module hierarchy, so we can identify \n",
    "    them for lora parametrization\"\"\"\n",
    "    config = {}\n",
    "    for name, module in model.named_modules():\n",
    "        if isinstance(module, nn.Linear) and any([name.split('.')[-1] == n for n in ['Q', 'K']]):\n",
    "            config[name] = {\n",
    "                nn.Linear: {\n",
    "                    \"weight\": partial(\n",
    "                        LoRAFAParametrization.from_linear,\n",
    "                        rank=rank, \n",
    "                        init_method=\"svd\", # set svd as initiazliation method\n",
    "                        original_weights=module.weight # pass weights for svd init\n",
    "                    ),\n",
    "                }\n",
    "            }\n",
    "    return config"
   ]
  },
  {
   "cell_type": "code",
   "execution_count": 42,
   "metadata": {},
   "outputs": [],
   "source": [
    "lorafa_config = construct_lorafa_config(model=model, rank=3)\n",
    "add_lora_by_layer_names(model, lorafa_config)"
   ]
  },
  {
   "cell_type": "code",
   "execution_count": 43,
   "metadata": {},
   "outputs": [
    {
     "name": "stdout",
     "output_type": "stream",
     "text": [
      "block1.Q.bias\n",
      "block1.Q.parametrizations.weight.original\n",
      "block1.Q.parametrizations.weight.0.lora_A\n",
      "block1.Q.parametrizations.weight.0.lora_B\n",
      "block1.K.bias\n",
      "block1.K.parametrizations.weight.original\n",
      "block1.K.parametrizations.weight.0.lora_A\n",
      "block1.K.parametrizations.weight.0.lora_B\n",
      "block2.Q.bias\n",
      "block2.Q.parametrizations.weight.original\n",
      "block2.Q.parametrizations.weight.0.lora_A\n",
      "block2.Q.parametrizations.weight.0.lora_B\n",
      "block2.A.weight\n",
      "block2.A.bias\n"
     ]
    }
   ],
   "source": [
    "# check new added lora weights\n",
    "for name, params in model.named_parameters():\n",
    "    print(name)"
   ]
  },
  {
   "cell_type": "markdown",
   "metadata": {},
   "source": [
    "And now training pipeline"
   ]
  },
  {
   "cell_type": "code",
   "execution_count": 44,
   "metadata": {},
   "outputs": [],
   "source": [
    "def freeze_nonlora(model):\n",
    "    for name, parameters in model.named_parameters():\n",
    "        if not name_is_lora(name):\n",
    "            parameters.requires_grad = False\n",
    "\n",
    "def get_trainable_lorafa_B_weights(model):\n",
    "    for n, p in model.named_parameters():\n",
    "        if name_is_lora(n) and name.split(\".\")[-1] == \"lora_B\":\n",
    "            yield p\n",
    "\n",
    "# step 1. freeze nonlora layers\n",
    "freeze_nonlora(model)\n",
    "\n",
    "# step 2. pass trainable parameters to optimizer \n",
    "parameters = [{\"params\": get_trainable_lorafa_B_weights(model)}]\n",
    "optimizer = torch.optim.Adam(parameters, lr=1e-3)\n",
    "\n",
    "\n",
    "# step 3. training\n",
    "criterion = torch.nn.functional.mse_loss\n",
    "x = np.linspace(start=0, stop=10, num=300)\n",
    "y = 3*x + 15 + np.random.normal(0, 1e-1, size=(300))\n",
    "dataset = torch.from_numpy(np.stack((x, y),axis=1)).to(torch.float32)\n",
    "loader = torch.utils.data.DataLoader(dataset, batch_size=32, shuffle=True)\n",
    "\n",
    "epochs=10\n",
    "for e in range(epochs):\n",
    "    l_cum, n = 0, 0\n",
    "    for batch in loader:\n",
    "        x, y = batch[:, 0][:, None], batch[:, 1][:, None]\n",
    "        optimizer.zero_grad()\n",
    "        y_hat = model(x)\n",
    "        loss = criterion(y_hat, y)\n",
    "        loss.backward()\n",
    "        optimizer.step()"
   ]
  },
  {
   "cell_type": "code",
   "execution_count": 45,
   "metadata": {},
   "outputs": [],
   "source": [
    "# sanity check that A didn't change\n",
    "for name, parameters in model.named_parameters():\n",
    "    if name_is_lora(name) and name.split('.')[-1] == 'lora_A':\n",
    "        assert not parameters.requires_grad"
   ]
  },
  {
   "cell_type": "code",
   "execution_count": null,
   "metadata": {},
   "outputs": [],
   "source": []
  },
  {
   "cell_type": "code",
   "execution_count": null,
   "metadata": {},
   "outputs": [],
   "source": []
  }
 ],
 "metadata": {
  "kernelspec": {
   "display_name": "base",
   "language": "python",
   "name": "python3"
  },
  "language_info": {
   "codemirror_mode": {
    "name": "ipython",
    "version": 3
   },
   "file_extension": ".py",
   "mimetype": "text/x-python",
   "name": "python",
   "nbconvert_exporter": "python",
   "pygments_lexer": "ipython3",
   "version": "3.11.5"
  }
 },
 "nbformat": 4,
 "nbformat_minor": 2
}
