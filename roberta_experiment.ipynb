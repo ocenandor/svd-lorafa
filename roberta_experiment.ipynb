{
 "cells": [
  {
   "cell_type": "code",
   "execution_count": null,
   "metadata": {},
   "outputs": [],
   "source": [
    "import csv\n",
    "import time\n",
    "import json\n",
    "import warnings\n",
    "from functools import partial\n",
    "warnings.filterwarnings('always')\n",
    "\n",
    "import torch\n",
    "import numpy as np\n",
    "import pandas as pd\n",
    "torch.manual_seed(0)\n",
    "from torch import nn\n",
    "import matplotlib.pyplot as plt\n",
    "from tqdm.notebook import trange, tqdm\n",
    "from torch.utils.data import Dataset, DataLoader\n",
    "from transformers import RobertaTokenizer, RobertaModel, RobertaForSequenceClassification\n",
    "\n",
    "from lora import *\n",
    "from datasets import GLUEDatasetRoberta"
   ]
  },
  {
   "cell_type": "markdown",
   "metadata": {},
   "source": [
    "We will follow LoRA-FA experiment setting, where in paper they state that they apply lora to all 4 linear layers in MultiHeadAttention (see section 2.2): 3 layers that produce $Q$, $K$ and $V$ and also final linear layer weights\n",
    "\n",
    "<center>\n",
    "<img src=\"imgs/mha.png\" width=300 height=400/>\n",
    "</center>"
   ]
  },
  {
   "cell_type": "code",
   "execution_count": null,
   "metadata": {},
   "outputs": [],
   "source": [
    "def construct_lorafa_config(model, rank, init_method='svd'):\n",
    "    \"\"\"Each layer has a unique name within module hierarchy, so we can identify \n",
    "    them for lora parametrization\"\"\"\n",
    "    config = {}\n",
    "    for name, module in model.named_modules():\n",
    "        if isinstance(module, nn.Linear) and any([name.split('.')[-1] == n for n in ['dense', 'query', 'key', 'value',]]) and '.attention.' in name:\n",
    "            config[name] = {\n",
    "                nn.Linear: {\n",
    "                    \"weight\": partial(\n",
    "                        LoRAFAParametrization.from_linear,\n",
    "                        rank=rank, \n",
    "                        init_method=init_method, # set svd as initiazliation method\n",
    "                        original_weights=module.weight # pass weights for svd init\n",
    "                    ),\n",
    "                }\n",
    "            }\n",
    "    return config"
   ]
  },
  {
   "cell_type": "markdown",
   "metadata": {},
   "source": [
    "# Fine-tuning stage"
   ]
  },
  {
   "cell_type": "markdown",
   "metadata": {},
   "source": [
    "## MRPC"
   ]
  },
  {
   "cell_type": "markdown",
   "metadata": {},
   "source": [
    "### Prepare model"
   ]
  },
  {
   "cell_type": "code",
   "execution_count": null,
   "metadata": {},
   "outputs": [],
   "source": [
    "device = 'cuda' if torch.cuda.is_available() else 'cpu'"
   ]
  },
  {
   "cell_type": "code",
   "execution_count": null,
   "metadata": {},
   "outputs": [],
   "source": [
    "def freeze_nonlora(model):\n",
    "    for name, parameters in model.named_parameters():\n",
    "        if not name_is_lora(name) and not 'classifier' in name: # don't want to freeze last original layer too\n",
    "            parameters.requires_grad = False"
   ]
  },
  {
   "cell_type": "code",
   "execution_count": null,
   "metadata": {},
   "outputs": [],
   "source": [
    "def get_hot_parameters(model):\n",
    "    for _, params in model.named_parameters():\n",
    "            if params.requires_grad:\n",
    "                 yield params"
   ]
  },
  {
   "cell_type": "markdown",
   "metadata": {},
   "source": [
    "### Prepare data"
   ]
  },
  {
   "cell_type": "code",
   "execution_count": null,
   "metadata": {},
   "outputs": [],
   "source": [
    "tokenizer = RobertaTokenizer.from_pretrained('roberta-base')"
   ]
  },
  {
   "cell_type": "code",
   "execution_count": null,
   "metadata": {},
   "outputs": [],
   "source": [
    "data_dir = '../GLUE-baselines/glue_data/MRPC'\n",
    "train_file = data_dir + '/msr_paraphrase_train.txt'\n",
    "test_file = data_dir + '/msr_paraphrase_test.txt'"
   ]
  },
  {
   "cell_type": "code",
   "execution_count": null,
   "metadata": {},
   "outputs": [],
   "source": [
    "train_dataset = GLUEDatasetRoberta(train_file, tokenizer, benchmark='mrpc')\n",
    "test_dataset = GLUEDatasetRoberta(test_file, tokenizer, benchmark='mrpc')"
   ]
  },
  {
   "cell_type": "code",
   "execution_count": null,
   "metadata": {},
   "outputs": [],
   "source": [
    "batch_size = 64\n",
    "train_loader = DataLoader(train_dataset, batch_size=batch_size, shuffle=True)\n",
    "test_loader = DataLoader(test_dataset, batch_size=batch_size,)"
   ]
  },
  {
   "cell_type": "markdown",
   "metadata": {},
   "source": [
    "### Train"
   ]
  },
  {
   "cell_type": "code",
   "execution_count": null,
   "metadata": {},
   "outputs": [],
   "source": [
    "# HYPER PARAMETERS\n",
    "rank = 2\n",
    "n_epoch = 30\n",
    "warmup_ratio = 0.06\n",
    "n_steps = len(train_loader) * n_epoch\n",
    "warmup_steps = warmup_ratio * n_steps\n",
    "criteria = nn.CrossEntropyLoss()\n",
    "\n",
    "def lr_lambda(current_step):\n",
    "    if current_step <= warmup_steps:\n",
    "        return (current_step + 1) / max(1, warmup_steps)\n",
    "    else:\n",
    "        return (n_steps - current_step) / (max(1, n_steps - warmup_steps))\n",
    "    "
   ]
  },
  {
   "cell_type": "code",
   "execution_count": null,
   "metadata": {},
   "outputs": [],
   "source": [
    "def train_epoch(model, optimizer, scheduler, pbar, mode_train=True):\n",
    "    step_loss = []\n",
    "    if mode_train:\n",
    "        model.train()\n",
    "        loader = train_loader\n",
    "    else:\n",
    "        model.eval()\n",
    "        total = 0\n",
    "        correct = 0\n",
    "        loader = test_loader\n",
    "    \n",
    "    for input_ids, attention_mask, label in loader: # training\n",
    "        output = model(input_ids.to(device), attention_mask.to(device))\n",
    "        loss = criteria(output.logits, label.to(device))\n",
    "\n",
    "        if mode_train:\n",
    "            optimizer.zero_grad()\n",
    "            loss.backward()\n",
    "            optimizer.step()\n",
    "            scheduler.step()\n",
    "        else:\n",
    "            _, preds = torch.max(output.logits, 1)\n",
    "            total += label.size(0)\n",
    "            correct += (preds.detach().cpu() == label).sum().item()\n",
    "            \n",
    "        step_loss.append(loss.item())\n",
    "        pbar.update()\n",
    "\n",
    "    if mode_train:\n",
    "        return np.mean(step_loss)\n",
    "    else:\n",
    "        return np.mean(step_loss), correct / total"
   ]
  },
  {
   "cell_type": "code",
   "execution_count": null,
   "metadata": {},
   "outputs": [],
   "source": [
    "def train(model, optimizer, scheduler):\n",
    "\n",
    "    pbar = tqdm(total=n_steps, desc='Training', position=0)\n",
    "    pbar_test = tqdm(total=len(test_loader), desc='Validating', position=1)\n",
    "\n",
    "    training_history= {'train_loss': [],\n",
    "                    'val_loss': [],\n",
    "                    'val_acc': [],}\n",
    "\n",
    "    for epoch in range(n_epoch):\n",
    "        if epoch != 0: pbar_test.update(-pbar_test.total) # for refreshing pbar\n",
    "\n",
    "        train_loss = train_epoch(model, optimizer, scheduler, pbar)        \n",
    "        val_loss, val_acc = train_epoch(model, optimizer, scheduler, pbar_test, mode_train=False)\n",
    "\n",
    "        # LOGGING\n",
    "        training_history['val_loss'].append(val_loss)\n",
    "        training_history['val_acc'].append(val_acc)\n",
    "        training_history['train_loss'].append(train_loss)   \n",
    "\n",
    "        pbar_test.set_postfix({'val_loss': val_loss, 'val_acc': val_acc, 'max_acc': max(training_history['val_acc'])})        \n",
    "        pbar.set_postfix({'train_loss': train_loss})\n",
    "        \n",
    "\n",
    "    pbar.close()\n",
    "    pbar_test.close()\n",
    "\n",
    "    return training_history"
   ]
  },
  {
   "cell_type": "code",
   "execution_count": null,
   "metadata": {},
   "outputs": [],
   "source": [
    "comparisson = {}\n",
    "for lr in [5e-5, 7e-5, 1e-4, 4e-4, 5e-3]:\n",
    "    for rank in [8, 4, 2, 1]:   \n",
    "        comparisson[(lr, rank)] = {}     \n",
    "        for init_method in ['kaiming', 'svd']:\n",
    "\n",
    "            # PREPARE MODEL\n",
    "            roberta = RobertaForSequenceClassification.from_pretrained('roberta-base')\n",
    "            lora_roberta_config = construct_lorafa_config(roberta, rank=rank, init_method=init_method) # kaiming, svd\n",
    "            add_lora_by_layer_names(roberta, lora_roberta_config)\n",
    "            freeze_nonlora(roberta)\n",
    "            roberta = roberta.to(device)\n",
    "            parameters = [{\"params\": list(get_hot_parameters(roberta))}]\n",
    "\n",
    "            # TRAIN\n",
    "            optimizer = torch.optim.AdamW(parameters, lr=lr)\n",
    "            scheduler = torch.optim.lr_scheduler.LambdaLR(optimizer, lr_lambda=lr_lambda)    \n",
    "            comparisson[(lr, rank)][init_method] = train(roberta, optimizer, scheduler)\n",
    "            torch.cuda.empty_cache()\n",
    "\n",
    "        with open(f'logs/log_{lr}_{rank}.json', 'w') as f:\n",
    "            json.dump(comparisson[(lr, rank)], f)\n",
    "\n",
    "with open(f'logs/full_logs.json', 'w') as f:\n",
    "    json.dump({str(key): value for key, value in comparisson.items()}, f, indent=2)\n",
    "\n"
   ]
  },
  {
   "cell_type": "code",
   "execution_count": null,
   "metadata": {},
   "outputs": [],
   "source": [
    "assert False"
   ]
  },
  {
   "cell_type": "code",
   "execution_count": null,
   "metadata": {},
   "outputs": [],
   "source": [
    "with open(f'logs/log_7e-05_1.json', 'r') as f:\n",
    "    comparisson = json.load(f)"
   ]
  },
  {
   "cell_type": "code",
   "execution_count": null,
   "metadata": {},
   "outputs": [],
   "source": [
    "plt.plot(comparisson['kaiming']['train_loss'], label='kaiming')\n",
    "plt.plot(comparisson['svd']['train_loss'], label='svd')\n",
    "plt.title('train_loss')\n",
    "plt.xlabel('epoch')\n",
    "plt.legend()\n",
    "plt.show()"
   ]
  },
  {
   "cell_type": "code",
   "execution_count": null,
   "metadata": {},
   "outputs": [],
   "source": [
    "plt.plot(comparisson['kaiming']['val_loss'], label='kaiming')\n",
    "plt.plot(comparisson['svd']['val_loss'], label='svd')\n",
    "plt.title('val_loss')\n",
    "plt.xlabel('epoch')\n",
    "plt.legend()\n",
    "plt.show()"
   ]
  },
  {
   "cell_type": "code",
   "execution_count": null,
   "metadata": {},
   "outputs": [],
   "source": [
    "plt.plot(comparisson['kaiming']['val_acc'], label='kaiming')\n",
    "plt.plot(comparisson['svd']['val_acc'], label='svd')\n",
    "plt.title('val_acc')\n",
    "plt.xlabel('epoch')\n",
    "plt.legend()\n",
    "plt.show()"
   ]
  }
 ],
 "metadata": {
  "kernelspec": {
   "display_name": "base",
   "language": "python",
   "name": "python3"
  },
  "language_info": {
   "codemirror_mode": {
    "name": "ipython",
    "version": 3
   },
   "file_extension": ".py",
   "mimetype": "text/x-python",
   "name": "python",
   "nbconvert_exporter": "python",
   "pygments_lexer": "ipython3",
   "version": "3.11.5"
  }
 },
 "nbformat": 4,
 "nbformat_minor": 2
}
